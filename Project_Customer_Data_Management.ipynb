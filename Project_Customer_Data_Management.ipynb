{
 "cells": [
  {
   "cell_type": "code",
   "execution_count": 1,
   "metadata": {},
   "outputs": [],
   "source": [
    "import pandas as pd\n",
    "import numpy as np\n",
    "import matplotlib.pyplot as plt\n",
    "import seaborn as sns"
   ]
  },
  {
   "cell_type": "code",
   "execution_count": 33,
   "metadata": {},
   "outputs": [],
   "source": [
    "data=pd.read_excel(\"ProjectData.xlsx\",'Master Sheet')\n"
   ]
  },
  {
   "cell_type": "code",
   "execution_count": 25,
   "metadata": {},
   "outputs": [],
   "source": [
    "data1=pd.read_excel(\"ProjectData.xlsx\",'ProductName')"
   ]
  },
  {
   "cell_type": "code",
   "execution_count": 26,
   "metadata": {},
   "outputs": [
    {
     "data": {
      "text/plain": [
       "Index(['Sl No  ', 'Cust_Id', 'Cust_Name', 'Gender_Category', 'Email_ID',\n",
       "       'Contact_No  ', 'State', 'Date', 'Order_id   ', 'Payment Mode ',\n",
       "       'Product_Id', 'Price_Per_Unit', 'Units', 'Cost ', 'Revenue', 'Profit'],\n",
       "      dtype='object')"
      ]
     },
     "execution_count": 26,
     "metadata": {},
     "output_type": "execute_result"
    }
   ],
   "source": [
    "data.columns"
   ]
  },
  {
   "cell_type": "code",
   "execution_count": 34,
   "metadata": {},
   "outputs": [
    {
     "data": {
      "text/plain": [
       "(321, 16)"
      ]
     },
     "execution_count": 34,
     "metadata": {},
     "output_type": "execute_result"
    }
   ],
   "source": [
    "data.shape"
   ]
  },
  {
   "cell_type": "code",
   "execution_count": 5,
   "metadata": {},
   "outputs": [
    {
     "data": {
      "text/html": [
       "<div>\n",
       "<style scoped>\n",
       "    .dataframe tbody tr th:only-of-type {\n",
       "        vertical-align: middle;\n",
       "    }\n",
       "\n",
       "    .dataframe tbody tr th {\n",
       "        vertical-align: top;\n",
       "    }\n",
       "\n",
       "    .dataframe thead th {\n",
       "        text-align: right;\n",
       "    }\n",
       "</style>\n",
       "<table border=\"1\" class=\"dataframe\">\n",
       "  <thead>\n",
       "    <tr style=\"text-align: right;\">\n",
       "      <th></th>\n",
       "      <th>Sl No</th>\n",
       "      <th>Cust_Id</th>\n",
       "      <th>Cust_Name</th>\n",
       "      <th>Gender_Category</th>\n",
       "      <th>Email_ID</th>\n",
       "      <th>Contact_No</th>\n",
       "      <th>State</th>\n",
       "      <th>Date</th>\n",
       "      <th>Order_id</th>\n",
       "      <th>Payment Mode</th>\n",
       "      <th>Product_Id</th>\n",
       "      <th>Price_Per_Unit</th>\n",
       "      <th>Units</th>\n",
       "      <th>Cost</th>\n",
       "      <th>Revenue</th>\n",
       "      <th>Profit</th>\n",
       "    </tr>\n",
       "  </thead>\n",
       "  <tbody>\n",
       "    <tr>\n",
       "      <th>0</th>\n",
       "      <td>1</td>\n",
       "      <td>515A</td>\n",
       "      <td>Nilima Shekar</td>\n",
       "      <td>Female</td>\n",
       "      <td>NilimaShekar08gmail.com</td>\n",
       "      <td>9106640850</td>\n",
       "      <td>Tamil-Nadu</td>\n",
       "      <td>2020-04-01</td>\n",
       "      <td>OD152</td>\n",
       "      <td>Online</td>\n",
       "      <td>1000D</td>\n",
       "      <td>15000</td>\n",
       "      <td>1</td>\n",
       "      <td>13000</td>\n",
       "      <td>15000</td>\n",
       "      <td>2000</td>\n",
       "    </tr>\n",
       "    <tr>\n",
       "      <th>1</th>\n",
       "      <td>2</td>\n",
       "      <td>381A</td>\n",
       "      <td>Navketan Dash</td>\n",
       "      <td>Male</td>\n",
       "      <td>NavketanDash1996gmail.com</td>\n",
       "      <td>9608475313</td>\n",
       "      <td>Orissa</td>\n",
       "      <td>2020-01-10</td>\n",
       "      <td>OD212</td>\n",
       "      <td>Offline</td>\n",
       "      <td>3000D</td>\n",
       "      <td>20000</td>\n",
       "      <td>1</td>\n",
       "      <td>18000</td>\n",
       "      <td>20000</td>\n",
       "      <td>2000</td>\n",
       "    </tr>\n",
       "    <tr>\n",
       "      <th>2</th>\n",
       "      <td>3</td>\n",
       "      <td>534A</td>\n",
       "      <td>Gaurav  Gosain</td>\n",
       "      <td>Male</td>\n",
       "      <td>GauravGosaingmail.com</td>\n",
       "      <td>9267458497</td>\n",
       "      <td>Punjab</td>\n",
       "      <td>2020-03-02</td>\n",
       "      <td>OD247</td>\n",
       "      <td>Offline</td>\n",
       "      <td>1000D</td>\n",
       "      <td>15000</td>\n",
       "      <td>1</td>\n",
       "      <td>13000</td>\n",
       "      <td>15000</td>\n",
       "      <td>2000</td>\n",
       "    </tr>\n",
       "    <tr>\n",
       "      <th>3</th>\n",
       "      <td>4</td>\n",
       "      <td>429A</td>\n",
       "      <td>Soumya Patnaik</td>\n",
       "      <td>Female</td>\n",
       "      <td>SoumyaPatnaik156gmail.com</td>\n",
       "      <td>9653780598</td>\n",
       "      <td>Tamil-Nadu</td>\n",
       "      <td>2020-06-23</td>\n",
       "      <td>OD193</td>\n",
       "      <td>Online</td>\n",
       "      <td>222Y8</td>\n",
       "      <td>60000</td>\n",
       "      <td>1</td>\n",
       "      <td>50000</td>\n",
       "      <td>60000</td>\n",
       "      <td>10000</td>\n",
       "    </tr>\n",
       "    <tr>\n",
       "      <th>4</th>\n",
       "      <td>5</td>\n",
       "      <td>451A</td>\n",
       "      <td>S Hari Charan</td>\n",
       "      <td>Male</td>\n",
       "      <td>SHariCharan2014gmail.com</td>\n",
       "      <td></td>\n",
       "      <td>Andhra Pradesh</td>\n",
       "      <td>2020-10-20</td>\n",
       "      <td>OD198</td>\n",
       "      <td>Offline</td>\n",
       "      <td>7090E</td>\n",
       "      <td>40000</td>\n",
       "      <td>2</td>\n",
       "      <td>33000</td>\n",
       "      <td>80000</td>\n",
       "      <td>14000</td>\n",
       "    </tr>\n",
       "  </tbody>\n",
       "</table>\n",
       "</div>"
      ],
      "text/plain": [
       "   Sl No   Cust_Id       Cust_Name Gender_Category                   Email_ID  \\\n",
       "0        1    515A   Nilima Shekar          Female    NilimaShekar08gmail.com   \n",
       "1        2    381A   Navketan Dash            Male  NavketanDash1996gmail.com   \n",
       "2        3    534A  Gaurav  Gosain            Male      GauravGosaingmail.com   \n",
       "3        4    429A  Soumya Patnaik          Female  SoumyaPatnaik156gmail.com   \n",
       "4        5    451A   S Hari Charan            Male   SHariCharan2014gmail.com   \n",
       "\n",
       "  Contact_No             State       Date Order_id    Payment Mode   \\\n",
       "0   9106640850      Tamil-Nadu 2020-04-01       OD152        Online   \n",
       "1   9608475313          Orissa 2020-01-10       OD212       Offline   \n",
       "2   9267458497          Punjab 2020-03-02       OD247       Offline   \n",
       "3   9653780598      Tamil-Nadu 2020-06-23       OD193        Online   \n",
       "4               Andhra Pradesh 2020-10-20       OD198       Offline   \n",
       "\n",
       "  Product_Id  Price_Per_Unit  Units  Cost   Revenue  Profit  \n",
       "0      1000D           15000      1  13000    15000    2000  \n",
       "1      3000D           20000      1  18000    20000    2000  \n",
       "2      1000D           15000      1  13000    15000    2000  \n",
       "3      222Y8           60000      1  50000    60000   10000  \n",
       "4      7090E           40000      2  33000    80000   14000  "
      ]
     },
     "execution_count": 5,
     "metadata": {},
     "output_type": "execute_result"
    }
   ],
   "source": [
    "data.head()"
   ]
  },
  {
   "cell_type": "code",
   "execution_count": 27,
   "metadata": {},
   "outputs": [
    {
     "data": {
      "text/plain": [
       "Index(['Product name', 'Product_id', 'Price', 'Cost'], dtype='object')"
      ]
     },
     "execution_count": 27,
     "metadata": {},
     "output_type": "execute_result"
    }
   ],
   "source": [
    "data1.columns"
   ]
  },
  {
   "cell_type": "code",
   "execution_count": 28,
   "metadata": {},
   "outputs": [
    {
     "data": {
      "text/html": [
       "<div>\n",
       "<style scoped>\n",
       "    .dataframe tbody tr th:only-of-type {\n",
       "        vertical-align: middle;\n",
       "    }\n",
       "\n",
       "    .dataframe tbody tr th {\n",
       "        vertical-align: top;\n",
       "    }\n",
       "\n",
       "    .dataframe thead th {\n",
       "        text-align: right;\n",
       "    }\n",
       "</style>\n",
       "<table border=\"1\" class=\"dataframe\">\n",
       "  <thead>\n",
       "    <tr style=\"text-align: right;\">\n",
       "      <th></th>\n",
       "      <th>Product name</th>\n",
       "      <th>Product_id</th>\n",
       "      <th>Price</th>\n",
       "      <th>Cost</th>\n",
       "    </tr>\n",
       "  </thead>\n",
       "  <tbody>\n",
       "    <tr>\n",
       "      <th>0</th>\n",
       "      <td>Mobile</td>\n",
       "      <td>1000D</td>\n",
       "      <td>15000</td>\n",
       "      <td>13000</td>\n",
       "    </tr>\n",
       "    <tr>\n",
       "      <th>1</th>\n",
       "      <td>Laptop</td>\n",
       "      <td>222Y8</td>\n",
       "      <td>60000</td>\n",
       "      <td>50000</td>\n",
       "    </tr>\n",
       "    <tr>\n",
       "      <th>2</th>\n",
       "      <td>Washing Machine</td>\n",
       "      <td>3000D</td>\n",
       "      <td>20000</td>\n",
       "      <td>18000</td>\n",
       "    </tr>\n",
       "    <tr>\n",
       "      <th>3</th>\n",
       "      <td>Microwave</td>\n",
       "      <td>2400C</td>\n",
       "      <td>12000</td>\n",
       "      <td>9000</td>\n",
       "    </tr>\n",
       "    <tr>\n",
       "      <th>4</th>\n",
       "      <td>Television</td>\n",
       "      <td>7090E</td>\n",
       "      <td>40000</td>\n",
       "      <td>33000</td>\n",
       "    </tr>\n",
       "  </tbody>\n",
       "</table>\n",
       "</div>"
      ],
      "text/plain": [
       "      Product name Product_id  Price   Cost\n",
       "0           Mobile      1000D  15000  13000\n",
       "1           Laptop      222Y8  60000  50000\n",
       "2  Washing Machine      3000D  20000  18000\n",
       "3        Microwave      2400C  12000   9000\n",
       "4       Television      7090E  40000  33000"
      ]
     },
     "execution_count": 28,
     "metadata": {},
     "output_type": "execute_result"
    }
   ],
   "source": [
    "data1.head()"
   ]
  },
  {
   "cell_type": "code",
   "execution_count": 35,
   "metadata": {},
   "outputs": [],
   "source": [
    "data=data.merge(data1,left_on='Product_Id',right_on='Product_id',how='inner')"
   ]
  },
  {
   "cell_type": "code",
   "execution_count": 30,
   "metadata": {},
   "outputs": [
    {
     "data": {
      "text/html": [
       "<div>\n",
       "<style scoped>\n",
       "    .dataframe tbody tr th:only-of-type {\n",
       "        vertical-align: middle;\n",
       "    }\n",
       "\n",
       "    .dataframe tbody tr th {\n",
       "        vertical-align: top;\n",
       "    }\n",
       "\n",
       "    .dataframe thead th {\n",
       "        text-align: right;\n",
       "    }\n",
       "</style>\n",
       "<table border=\"1\" class=\"dataframe\">\n",
       "  <thead>\n",
       "    <tr style=\"text-align: right;\">\n",
       "      <th></th>\n",
       "      <th>Sl No</th>\n",
       "      <th>Cust_Id</th>\n",
       "      <th>Cust_Name</th>\n",
       "      <th>Gender_Category</th>\n",
       "      <th>Email_ID</th>\n",
       "      <th>Contact_No</th>\n",
       "      <th>State</th>\n",
       "      <th>Date</th>\n",
       "      <th>Order_id</th>\n",
       "      <th>Payment Mode</th>\n",
       "      <th>Product_Id</th>\n",
       "      <th>Price_Per_Unit</th>\n",
       "      <th>Units</th>\n",
       "      <th>Cost</th>\n",
       "      <th>Revenue</th>\n",
       "      <th>Profit</th>\n",
       "      <th>Product name</th>\n",
       "      <th>Product_id</th>\n",
       "      <th>Price</th>\n",
       "      <th>Cost</th>\n",
       "    </tr>\n",
       "  </thead>\n",
       "  <tbody>\n",
       "    <tr>\n",
       "      <th>0</th>\n",
       "      <td>1</td>\n",
       "      <td>515A</td>\n",
       "      <td>Nilima Shekar</td>\n",
       "      <td>Female</td>\n",
       "      <td>NilimaShekar08gmail.com</td>\n",
       "      <td>9106640850</td>\n",
       "      <td>Tamil-Nadu</td>\n",
       "      <td>2020-04-01</td>\n",
       "      <td>OD152</td>\n",
       "      <td>Online</td>\n",
       "      <td>1000D</td>\n",
       "      <td>15000</td>\n",
       "      <td>1</td>\n",
       "      <td>13000</td>\n",
       "      <td>15000</td>\n",
       "      <td>2000</td>\n",
       "      <td>Mobile</td>\n",
       "      <td>1000D</td>\n",
       "      <td>15000</td>\n",
       "      <td>13000</td>\n",
       "    </tr>\n",
       "    <tr>\n",
       "      <th>1</th>\n",
       "      <td>3</td>\n",
       "      <td>534A</td>\n",
       "      <td>Gaurav  Gosain</td>\n",
       "      <td>Male</td>\n",
       "      <td>GauravGosaingmail.com</td>\n",
       "      <td>9267458497</td>\n",
       "      <td>Punjab</td>\n",
       "      <td>2020-03-02</td>\n",
       "      <td>OD247</td>\n",
       "      <td>Offline</td>\n",
       "      <td>1000D</td>\n",
       "      <td>15000</td>\n",
       "      <td>1</td>\n",
       "      <td>13000</td>\n",
       "      <td>15000</td>\n",
       "      <td>2000</td>\n",
       "      <td>Mobile</td>\n",
       "      <td>1000D</td>\n",
       "      <td>15000</td>\n",
       "      <td>13000</td>\n",
       "    </tr>\n",
       "    <tr>\n",
       "      <th>2</th>\n",
       "      <td>8</td>\n",
       "      <td>316A</td>\n",
       "      <td>Mahesh Kute</td>\n",
       "      <td></td>\n",
       "      <td>KuteMaheshgmail.com</td>\n",
       "      <td>9263285974</td>\n",
       "      <td>Orissa</td>\n",
       "      <td>2020-02-02</td>\n",
       "      <td>OD207</td>\n",
       "      <td>Offline</td>\n",
       "      <td>1000D</td>\n",
       "      <td>15000</td>\n",
       "      <td>1</td>\n",
       "      <td>13000</td>\n",
       "      <td>15000</td>\n",
       "      <td>2000</td>\n",
       "      <td>Mobile</td>\n",
       "      <td>1000D</td>\n",
       "      <td>15000</td>\n",
       "      <td>13000</td>\n",
       "    </tr>\n",
       "    <tr>\n",
       "      <th>3</th>\n",
       "      <td>11</td>\n",
       "      <td>452A</td>\n",
       "      <td>Nikhil Agarwal</td>\n",
       "      <td>Male</td>\n",
       "      <td>AgarwalNikhil008yahoo.com</td>\n",
       "      <td>9895301286</td>\n",
       "      <td>Himachal Pradesh</td>\n",
       "      <td>2020-05-16</td>\n",
       "      <td>OD169</td>\n",
       "      <td>Offline</td>\n",
       "      <td>1000D</td>\n",
       "      <td>15000</td>\n",
       "      <td>1</td>\n",
       "      <td>13000</td>\n",
       "      <td>15000</td>\n",
       "      <td>2000</td>\n",
       "      <td>Mobile</td>\n",
       "      <td>1000D</td>\n",
       "      <td>15000</td>\n",
       "      <td>13000</td>\n",
       "    </tr>\n",
       "    <tr>\n",
       "      <th>4</th>\n",
       "      <td>16</td>\n",
       "      <td>473A</td>\n",
       "      <td>Vivek Chadha</td>\n",
       "      <td>Male</td>\n",
       "      <td>ChadhaVivekbsgmail.com</td>\n",
       "      <td>9992847114</td>\n",
       "      <td>Kerala</td>\n",
       "      <td>2020-01-23</td>\n",
       "      <td>OD168</td>\n",
       "      <td>Online</td>\n",
       "      <td>1000D</td>\n",
       "      <td>15000</td>\n",
       "      <td>1</td>\n",
       "      <td>13000</td>\n",
       "      <td>15000</td>\n",
       "      <td>2000</td>\n",
       "      <td>Mobile</td>\n",
       "      <td>1000D</td>\n",
       "      <td>15000</td>\n",
       "      <td>13000</td>\n",
       "    </tr>\n",
       "  </tbody>\n",
       "</table>\n",
       "</div>"
      ],
      "text/plain": [
       "   Sl No   Cust_Id       Cust_Name Gender_Category                   Email_ID  \\\n",
       "0        1    515A   Nilima Shekar          Female    NilimaShekar08gmail.com   \n",
       "1        3    534A  Gaurav  Gosain            Male      GauravGosaingmail.com   \n",
       "2        8    316A     Mahesh Kute                        KuteMaheshgmail.com   \n",
       "3       11    452A  Nikhil Agarwal            Male  AgarwalNikhil008yahoo.com   \n",
       "4       16    473A    Vivek Chadha            Male     ChadhaVivekbsgmail.com   \n",
       "\n",
       "  Contact_No               State       Date Order_id    Payment Mode   \\\n",
       "0   9106640850        Tamil-Nadu 2020-04-01       OD152        Online   \n",
       "1   9267458497            Punjab 2020-03-02       OD247       Offline   \n",
       "2   9263285974            Orissa 2020-02-02       OD207       Offline   \n",
       "3   9895301286  Himachal Pradesh 2020-05-16       OD169       Offline   \n",
       "4   9992847114            Kerala 2020-01-23       OD168        Online   \n",
       "\n",
       "  Product_Id  Price_Per_Unit  Units  Cost   Revenue  Profit Product name  \\\n",
       "0      1000D           15000      1  13000    15000    2000       Mobile   \n",
       "1      1000D           15000      1  13000    15000    2000       Mobile   \n",
       "2      1000D           15000      1  13000    15000    2000       Mobile   \n",
       "3      1000D           15000      1  13000    15000    2000       Mobile   \n",
       "4      1000D           15000      1  13000    15000    2000       Mobile   \n",
       "\n",
       "  Product_id  Price   Cost  \n",
       "0      1000D  15000  13000  \n",
       "1      1000D  15000  13000  \n",
       "2      1000D  15000  13000  \n",
       "3      1000D  15000  13000  \n",
       "4      1000D  15000  13000  "
      ]
     },
     "execution_count": 30,
     "metadata": {},
     "output_type": "execute_result"
    }
   ],
   "source": [
    "data.head()"
   ]
  },
  {
   "cell_type": "code",
   "execution_count": 36,
   "metadata": {},
   "outputs": [
    {
     "data": {
      "text/plain": [
       "(321, 20)"
      ]
     },
     "execution_count": 36,
     "metadata": {},
     "output_type": "execute_result"
    }
   ],
   "source": [
    "data.shape"
   ]
  },
  {
   "cell_type": "code",
   "execution_count": 37,
   "metadata": {},
   "outputs": [],
   "source": [
    "data=data.iloc[:,0:17]"
   ]
  },
  {
   "cell_type": "code",
   "execution_count": 38,
   "metadata": {},
   "outputs": [
    {
     "data": {
      "text/html": [
       "<div>\n",
       "<style scoped>\n",
       "    .dataframe tbody tr th:only-of-type {\n",
       "        vertical-align: middle;\n",
       "    }\n",
       "\n",
       "    .dataframe tbody tr th {\n",
       "        vertical-align: top;\n",
       "    }\n",
       "\n",
       "    .dataframe thead th {\n",
       "        text-align: right;\n",
       "    }\n",
       "</style>\n",
       "<table border=\"1\" class=\"dataframe\">\n",
       "  <thead>\n",
       "    <tr style=\"text-align: right;\">\n",
       "      <th></th>\n",
       "      <th>Sl No</th>\n",
       "      <th>Cust_Id</th>\n",
       "      <th>Cust_Name</th>\n",
       "      <th>Gender_Category</th>\n",
       "      <th>Email_ID</th>\n",
       "      <th>Contact_No</th>\n",
       "      <th>State</th>\n",
       "      <th>Date</th>\n",
       "      <th>Order_id</th>\n",
       "      <th>Payment Mode</th>\n",
       "      <th>Product_Id</th>\n",
       "      <th>Price_Per_Unit</th>\n",
       "      <th>Units</th>\n",
       "      <th>Cost</th>\n",
       "      <th>Revenue</th>\n",
       "      <th>Profit</th>\n",
       "      <th>Product name</th>\n",
       "    </tr>\n",
       "  </thead>\n",
       "  <tbody>\n",
       "    <tr>\n",
       "      <th>0</th>\n",
       "      <td>1</td>\n",
       "      <td>515A</td>\n",
       "      <td>Nilima Shekar</td>\n",
       "      <td>Female</td>\n",
       "      <td>NilimaShekar08gmail.com</td>\n",
       "      <td>9106640850</td>\n",
       "      <td>Tamil-Nadu</td>\n",
       "      <td>2020-04-01</td>\n",
       "      <td>OD152</td>\n",
       "      <td>Online</td>\n",
       "      <td>1000D</td>\n",
       "      <td>15000</td>\n",
       "      <td>1</td>\n",
       "      <td>13000</td>\n",
       "      <td>15000</td>\n",
       "      <td>2000</td>\n",
       "      <td>Mobile</td>\n",
       "    </tr>\n",
       "    <tr>\n",
       "      <th>1</th>\n",
       "      <td>3</td>\n",
       "      <td>534A</td>\n",
       "      <td>Gaurav  Gosain</td>\n",
       "      <td>Male</td>\n",
       "      <td>GauravGosaingmail.com</td>\n",
       "      <td>9267458497</td>\n",
       "      <td>Punjab</td>\n",
       "      <td>2020-03-02</td>\n",
       "      <td>OD247</td>\n",
       "      <td>Offline</td>\n",
       "      <td>1000D</td>\n",
       "      <td>15000</td>\n",
       "      <td>1</td>\n",
       "      <td>13000</td>\n",
       "      <td>15000</td>\n",
       "      <td>2000</td>\n",
       "      <td>Mobile</td>\n",
       "    </tr>\n",
       "    <tr>\n",
       "      <th>2</th>\n",
       "      <td>8</td>\n",
       "      <td>316A</td>\n",
       "      <td>Mahesh Kute</td>\n",
       "      <td></td>\n",
       "      <td>KuteMaheshgmail.com</td>\n",
       "      <td>9263285974</td>\n",
       "      <td>Orissa</td>\n",
       "      <td>2020-02-02</td>\n",
       "      <td>OD207</td>\n",
       "      <td>Offline</td>\n",
       "      <td>1000D</td>\n",
       "      <td>15000</td>\n",
       "      <td>1</td>\n",
       "      <td>13000</td>\n",
       "      <td>15000</td>\n",
       "      <td>2000</td>\n",
       "      <td>Mobile</td>\n",
       "    </tr>\n",
       "    <tr>\n",
       "      <th>3</th>\n",
       "      <td>11</td>\n",
       "      <td>452A</td>\n",
       "      <td>Nikhil Agarwal</td>\n",
       "      <td>Male</td>\n",
       "      <td>AgarwalNikhil008yahoo.com</td>\n",
       "      <td>9895301286</td>\n",
       "      <td>Himachal Pradesh</td>\n",
       "      <td>2020-05-16</td>\n",
       "      <td>OD169</td>\n",
       "      <td>Offline</td>\n",
       "      <td>1000D</td>\n",
       "      <td>15000</td>\n",
       "      <td>1</td>\n",
       "      <td>13000</td>\n",
       "      <td>15000</td>\n",
       "      <td>2000</td>\n",
       "      <td>Mobile</td>\n",
       "    </tr>\n",
       "    <tr>\n",
       "      <th>4</th>\n",
       "      <td>16</td>\n",
       "      <td>473A</td>\n",
       "      <td>Vivek Chadha</td>\n",
       "      <td>Male</td>\n",
       "      <td>ChadhaVivekbsgmail.com</td>\n",
       "      <td>9992847114</td>\n",
       "      <td>Kerala</td>\n",
       "      <td>2020-01-23</td>\n",
       "      <td>OD168</td>\n",
       "      <td>Online</td>\n",
       "      <td>1000D</td>\n",
       "      <td>15000</td>\n",
       "      <td>1</td>\n",
       "      <td>13000</td>\n",
       "      <td>15000</td>\n",
       "      <td>2000</td>\n",
       "      <td>Mobile</td>\n",
       "    </tr>\n",
       "  </tbody>\n",
       "</table>\n",
       "</div>"
      ],
      "text/plain": [
       "   Sl No   Cust_Id       Cust_Name Gender_Category                   Email_ID  \\\n",
       "0        1    515A   Nilima Shekar          Female    NilimaShekar08gmail.com   \n",
       "1        3    534A  Gaurav  Gosain            Male      GauravGosaingmail.com   \n",
       "2        8    316A     Mahesh Kute                        KuteMaheshgmail.com   \n",
       "3       11    452A  Nikhil Agarwal            Male  AgarwalNikhil008yahoo.com   \n",
       "4       16    473A    Vivek Chadha            Male     ChadhaVivekbsgmail.com   \n",
       "\n",
       "  Contact_No               State       Date Order_id    Payment Mode   \\\n",
       "0   9106640850        Tamil-Nadu 2020-04-01       OD152        Online   \n",
       "1   9267458497            Punjab 2020-03-02       OD247       Offline   \n",
       "2   9263285974            Orissa 2020-02-02       OD207       Offline   \n",
       "3   9895301286  Himachal Pradesh 2020-05-16       OD169       Offline   \n",
       "4   9992847114            Kerala 2020-01-23       OD168        Online   \n",
       "\n",
       "  Product_Id  Price_Per_Unit  Units  Cost   Revenue  Profit Product name  \n",
       "0      1000D           15000      1  13000    15000    2000       Mobile  \n",
       "1      1000D           15000      1  13000    15000    2000       Mobile  \n",
       "2      1000D           15000      1  13000    15000    2000       Mobile  \n",
       "3      1000D           15000      1  13000    15000    2000       Mobile  \n",
       "4      1000D           15000      1  13000    15000    2000       Mobile  "
      ]
     },
     "execution_count": 38,
     "metadata": {},
     "output_type": "execute_result"
    }
   ],
   "source": [
    "data.head()"
   ]
  },
  {
   "cell_type": "code",
   "execution_count": 45,
   "metadata": {},
   "outputs": [],
   "source": [
    "data.drop([\"Sl No  \"],axis=1,inplace=True)"
   ]
  },
  {
   "cell_type": "code",
   "execution_count": 46,
   "metadata": {},
   "outputs": [
    {
     "data": {
      "text/plain": [
       "Cust_Id            0\n",
       "Cust_Name          0\n",
       "Gender_Category    0\n",
       "Email_ID           0\n",
       "Contact_No         0\n",
       "State              0\n",
       "Date               0\n",
       "Order_id           0\n",
       "Payment Mode       0\n",
       "Product_Id         0\n",
       "Price_Per_Unit     0\n",
       "Units              0\n",
       "Cost               0\n",
       "Revenue            0\n",
       "Profit             0\n",
       "Product name       0\n",
       "dtype: int64"
      ]
     },
     "execution_count": 46,
     "metadata": {},
     "output_type": "execute_result"
    }
   ],
   "source": [
    "data.isnull().sum()"
   ]
  },
  {
   "cell_type": "code",
   "execution_count": 47,
   "metadata": {},
   "outputs": [
    {
     "data": {
      "text/html": [
       "<div>\n",
       "<style scoped>\n",
       "    .dataframe tbody tr th:only-of-type {\n",
       "        vertical-align: middle;\n",
       "    }\n",
       "\n",
       "    .dataframe tbody tr th {\n",
       "        vertical-align: top;\n",
       "    }\n",
       "\n",
       "    .dataframe thead th {\n",
       "        text-align: right;\n",
       "    }\n",
       "</style>\n",
       "<table border=\"1\" class=\"dataframe\">\n",
       "  <thead>\n",
       "    <tr style=\"text-align: right;\">\n",
       "      <th></th>\n",
       "      <th>Price_Per_Unit</th>\n",
       "      <th>Units</th>\n",
       "      <th>Cost</th>\n",
       "      <th>Revenue</th>\n",
       "      <th>Profit</th>\n",
       "    </tr>\n",
       "  </thead>\n",
       "  <tbody>\n",
       "    <tr>\n",
       "      <th>count</th>\n",
       "      <td>321.000000</td>\n",
       "      <td>321.000000</td>\n",
       "      <td>321.000000</td>\n",
       "      <td>321.000000</td>\n",
       "      <td>321.000000</td>\n",
       "    </tr>\n",
       "    <tr>\n",
       "      <th>mean</th>\n",
       "      <td>26794.392523</td>\n",
       "      <td>2.031153</td>\n",
       "      <td>22919.003115</td>\n",
       "      <td>51931.464174</td>\n",
       "      <td>7570.093458</td>\n",
       "    </tr>\n",
       "    <tr>\n",
       "      <th>std</th>\n",
       "      <td>17536.072635</td>\n",
       "      <td>1.193326</td>\n",
       "      <td>15733.313987</td>\n",
       "      <td>47777.298879</td>\n",
       "      <td>7357.112396</td>\n",
       "    </tr>\n",
       "    <tr>\n",
       "      <th>min</th>\n",
       "      <td>8000.000000</td>\n",
       "      <td>1.000000</td>\n",
       "      <td>7000.000000</td>\n",
       "      <td>8000.000000</td>\n",
       "      <td>1000.000000</td>\n",
       "    </tr>\n",
       "    <tr>\n",
       "      <th>25%</th>\n",
       "      <td>12000.000000</td>\n",
       "      <td>1.000000</td>\n",
       "      <td>9000.000000</td>\n",
       "      <td>20000.000000</td>\n",
       "      <td>3000.000000</td>\n",
       "    </tr>\n",
       "    <tr>\n",
       "      <th>50%</th>\n",
       "      <td>15000.000000</td>\n",
       "      <td>2.000000</td>\n",
       "      <td>13000.000000</td>\n",
       "      <td>40000.000000</td>\n",
       "      <td>6000.000000</td>\n",
       "    </tr>\n",
       "    <tr>\n",
       "      <th>75%</th>\n",
       "      <td>40000.000000</td>\n",
       "      <td>3.000000</td>\n",
       "      <td>33000.000000</td>\n",
       "      <td>60000.000000</td>\n",
       "      <td>10000.000000</td>\n",
       "    </tr>\n",
       "    <tr>\n",
       "      <th>max</th>\n",
       "      <td>60000.000000</td>\n",
       "      <td>6.000000</td>\n",
       "      <td>50000.000000</td>\n",
       "      <td>360000.000000</td>\n",
       "      <td>60000.000000</td>\n",
       "    </tr>\n",
       "  </tbody>\n",
       "</table>\n",
       "</div>"
      ],
      "text/plain": [
       "       Price_Per_Unit       Units         Cost         Revenue        Profit\n",
       "count      321.000000  321.000000    321.000000     321.000000    321.000000\n",
       "mean     26794.392523    2.031153  22919.003115   51931.464174   7570.093458\n",
       "std      17536.072635    1.193326  15733.313987   47777.298879   7357.112396\n",
       "min       8000.000000    1.000000   7000.000000    8000.000000   1000.000000\n",
       "25%      12000.000000    1.000000   9000.000000   20000.000000   3000.000000\n",
       "50%      15000.000000    2.000000  13000.000000   40000.000000   6000.000000\n",
       "75%      40000.000000    3.000000  33000.000000   60000.000000  10000.000000\n",
       "max      60000.000000    6.000000  50000.000000  360000.000000  60000.000000"
      ]
     },
     "execution_count": 47,
     "metadata": {},
     "output_type": "execute_result"
    }
   ],
   "source": [
    "data.describe()"
   ]
  },
  {
   "cell_type": "code",
   "execution_count": 48,
   "metadata": {},
   "outputs": [
    {
     "name": "stdout",
     "output_type": "stream",
     "text": [
      "<class 'pandas.core.frame.DataFrame'>\n",
      "Int64Index: 321 entries, 0 to 320\n",
      "Data columns (total 16 columns):\n",
      " #   Column           Non-Null Count  Dtype         \n",
      "---  ------           --------------  -----         \n",
      " 0   Cust_Id          321 non-null    object        \n",
      " 1   Cust_Name        321 non-null    object        \n",
      " 2   Gender_Category  321 non-null    object        \n",
      " 3   Email_ID         321 non-null    object        \n",
      " 4   Contact_No       321 non-null    object        \n",
      " 5   State            321 non-null    object        \n",
      " 6   Date             321 non-null    datetime64[ns]\n",
      " 7   Order_id         321 non-null    object        \n",
      " 8   Payment Mode     321 non-null    object        \n",
      " 9   Product_Id       321 non-null    object        \n",
      " 10  Price_Per_Unit   321 non-null    int64         \n",
      " 11  Units            321 non-null    int64         \n",
      " 12  Cost             321 non-null    int64         \n",
      " 13  Revenue          321 non-null    int64         \n",
      " 14  Profit           321 non-null    int64         \n",
      " 15  Product name     321 non-null    object        \n",
      "dtypes: datetime64[ns](1), int64(5), object(10)\n",
      "memory usage: 52.6+ KB\n"
     ]
    }
   ],
   "source": [
    "data.info()"
   ]
  },
  {
   "cell_type": "markdown",
   "metadata": {},
   "source": [
    "### 1. Query\n",
    "\n",
    "#### Payment Mode"
   ]
  },
  {
   "cell_type": "code",
   "execution_count": 50,
   "metadata": {},
   "outputs": [
    {
     "data": {
      "text/plain": [
       "Online     186\n",
       "Offline    135\n",
       "Name: Payment Mode , dtype: int64"
      ]
     },
     "execution_count": 50,
     "metadata": {},
     "output_type": "execute_result"
    }
   ],
   "source": [
    "data['Payment Mode '].value_counts()"
   ]
  },
  {
   "cell_type": "code",
   "execution_count": 54,
   "metadata": {},
   "outputs": [
    {
     "data": {
      "text/plain": [
       "<AxesSubplot:xlabel='Payment Mode '>"
      ]
     },
     "execution_count": 54,
     "metadata": {},
     "output_type": "execute_result"
    },
    {
     "data": {
      "image/png": "[encoded data removed]",
      "text/plain": [
       "<Figure size 432x288 with 1 Axes>"
      ]
     },
     "metadata": {
      "needs_background": "light"
     },
     "output_type": "display_data"
    }
   ],
   "source": [
    "data.groupby('Payment Mode ').size().plot(kind='bar')"
   ]
  },
  {
   "cell_type": "code",
   "execution_count": 59,
   "metadata": {},
   "outputs": [
    {
     "data": {
      "text/plain": [
       "Payment Mode \n",
       "Offline     6494000\n",
       "Online     10176000\n",
       "Name: Revenue, dtype: int64"
      ]
     },
     "execution_count": 59,
     "metadata": {},
     "output_type": "execute_result"
    }
   ],
   "source": [
    "data.groupby('Payment Mode ')['Revenue'].sum()"
   ]
  },
  {
   "cell_type": "code",
   "execution_count": 58,
   "metadata": {},
   "outputs": [
    {
     "data": {
      "text/plain": [
       "<AxesSubplot:xlabel='Payment Mode '>"
      ]
     },
     "execution_count": 58,
     "metadata": {},
     "output_type": "execute_result"
    },
    {
     "data": {
      "image/png": "[encoded data removed]",
      "text/plain": [
       "<Figure size 432x288 with 1 Axes>"
      ]
     },
     "metadata": {
      "needs_background": "light"
     },
     "output_type": "display_data"
    }
   ],
   "source": [
    "data.groupby('Payment Mode ')['Revenue'].sum().plot(kind='bar',color=['b','g'])"
   ]
  },
  {
   "cell_type": "markdown",
   "metadata": {},
   "source": [
    "### 2. Query\n",
    "#### ProductName\n"
   ]
  },
  {
   "cell_type": "code",
   "execution_count": 60,
   "metadata": {},
   "outputs": [
    {
     "data": {
      "text/plain": [
       "Product name\n",
       "Dishwasher         3350000\n",
       "Laptop             2820000\n",
       "Microwave          2148000\n",
       "Mobile             1440000\n",
       "Television         5200000\n",
       "Vaccum Cleaner      632000\n",
       "Washing Machine    1080000\n",
       "Name: Revenue, dtype: int64"
      ]
     },
     "execution_count": 60,
     "metadata": {},
     "output_type": "execute_result"
    }
   ],
   "source": [
    "data.groupby('Product name')['Revenue'].sum()"
   ]
  },
  {
   "cell_type": "code",
   "execution_count": 61,
   "metadata": {},
   "outputs": [
    {
     "data": {
      "text/plain": [
       "<AxesSubplot:ylabel='Product name'>"
      ]
     },
     "execution_count": 61,
     "metadata": {},
     "output_type": "execute_result"
    },
    {
     "data": {
      "image/png": "[encoded data removed]",
      "text/plain": [
       "<Figure size 432x288 with 1 Axes>"
      ]
     },
     "metadata": {
      "needs_background": "light"
     },
     "output_type": "display_data"
    }
   ],
   "source": [
    "data.groupby('Product name')['Revenue'].sum().sort_values(ascending=False).plot(kind='barh')"
   ]
  },
  {
   "cell_type": "markdown",
   "metadata": {},
   "source": [
    "### Query 3 \n",
    "#### State and Product Name\n"
   ]
  },
  {
   "cell_type": "code",
   "execution_count": 76,
   "metadata": {},
   "outputs": [
    {
     "data": {
      "text/html": [
       "<div>\n",
       "<style scoped>\n",
       "    .dataframe tbody tr th:only-of-type {\n",
       "        vertical-align: middle;\n",
       "    }\n",
       "\n",
       "    .dataframe tbody tr th {\n",
       "        vertical-align: top;\n",
       "    }\n",
       "\n",
       "    .dataframe thead th {\n",
       "        text-align: right;\n",
       "    }\n",
       "</style>\n",
       "<table border=\"1\" class=\"dataframe\">\n",
       "  <thead>\n",
       "    <tr style=\"text-align: right;\">\n",
       "      <th></th>\n",
       "      <th></th>\n",
       "      <th>Revenue</th>\n",
       "      <th>Profit</th>\n",
       "    </tr>\n",
       "    <tr>\n",
       "      <th>State</th>\n",
       "      <th>Product name</th>\n",
       "      <th></th>\n",
       "      <th></th>\n",
       "    </tr>\n",
       "  </thead>\n",
       "  <tbody>\n",
       "    <tr>\n",
       "      <th>Jharkhand</th>\n",
       "      <th>Television</th>\n",
       "      <td>680000</td>\n",
       "      <td>119000</td>\n",
       "    </tr>\n",
       "    <tr>\n",
       "      <th>Karnataka</th>\n",
       "      <th>Television</th>\n",
       "      <td>560000</td>\n",
       "      <td>98000</td>\n",
       "    </tr>\n",
       "    <tr>\n",
       "      <th>Kerala</th>\n",
       "      <th>Laptop</th>\n",
       "      <td>540000</td>\n",
       "      <td>90000</td>\n",
       "    </tr>\n",
       "    <tr>\n",
       "      <th>Karnataka</th>\n",
       "      <th>Dishwasher</th>\n",
       "      <td>500000</td>\n",
       "      <td>20000</td>\n",
       "    </tr>\n",
       "    <tr>\n",
       "      <th>Kerala</th>\n",
       "      <th>Television</th>\n",
       "      <td>480000</td>\n",
       "      <td>84000</td>\n",
       "    </tr>\n",
       "  </tbody>\n",
       "</table>\n",
       "</div>"
      ],
      "text/plain": [
       "                        Revenue  Profit\n",
       "State     Product name                 \n",
       "Jharkhand Television     680000  119000\n",
       "Karnataka Television     560000   98000\n",
       "Kerala    Laptop         540000   90000\n",
       "Karnataka Dishwasher     500000   20000\n",
       "Kerala    Television     480000   84000"
      ]
     },
     "execution_count": 76,
     "metadata": {},
     "output_type": "execute_result"
    }
   ],
   "source": [
    "df1=data.groupby(['State','Product name'])[['Revenue','Profit']].sum().sort_values(by='Revenue',ascending=False)\n",
    "df1.head()\n"
   ]
  },
  {
   "cell_type": "code",
   "execution_count": 68,
   "metadata": {},
   "outputs": [
    {
     "data": {
      "text/plain": [
       "Index(['Revenue', 'Profit'], dtype='object')"
      ]
     },
     "execution_count": 68,
     "metadata": {},
     "output_type": "execute_result"
    }
   ],
   "source": [
    "df1.columns"
   ]
  },
  {
   "cell_type": "code",
   "execution_count": 69,
   "metadata": {},
   "outputs": [
    {
     "data": {
      "text/plain": [
       "MultiIndex([(        'Jharkhand',      'Television'),\n",
       "            (        'Karnataka',      'Television'),\n",
       "            (           'Kerala',          'Laptop'),\n",
       "            (        'Karnataka',      'Dishwasher'),\n",
       "            (           'Kerala',      'Television'),\n",
       "            (            'Assam',      'Television'),\n",
       "            ( 'Himachal Pradesh',      'Television'),\n",
       "            (           'Punjab',      'Dishwasher'),\n",
       "            (          'Gujarat',          'Laptop'),\n",
       "            (           'Punjab',          'Laptop'),\n",
       "            ...\n",
       "            (      'West Bengal', 'Washing Machine'),\n",
       "            (           'Orissa', 'Washing Machine'),\n",
       "            ('ARUNACHAL PRADESH', 'Washing Machine'),\n",
       "            (          'Haryana', 'Washing Machine'),\n",
       "            (      'Maharashtra',  'Vaccum Cleaner'),\n",
       "            (          'Haryana',  'Vaccum Cleaner'),\n",
       "            (   'Madhya Pradesh',          'Mobile'),\n",
       "            (            'ASSAM',          'Mobile'),\n",
       "            (   'ANDHRA PRADESH',          'Mobile'),\n",
       "            (          'HARYANA',       'Microwave')],\n",
       "           names=['State', 'Product name'], length=123)"
      ]
     },
     "execution_count": 69,
     "metadata": {},
     "output_type": "execute_result"
    }
   ],
   "source": [
    "df1.index"
   ]
  },
  {
   "cell_type": "code",
   "execution_count": 77,
   "metadata": {},
   "outputs": [
    {
     "data": {
      "text/plain": [
       "<AxesSubplot:xlabel='State,Product name'>"
      ]
     },
     "execution_count": 77,
     "metadata": {},
     "output_type": "execute_result"
    },
    {
     "data": {
      "image/png": "[encoded data removed]",
      "text/plain": [
       "<Figure size 432x288 with 1 Axes>"
      ]
     },
     "metadata": {
      "needs_background": "light"
     },
     "output_type": "display_data"
    }
   ],
   "source": [
    "df1.head(10).plot(kind='bar')"
   ]
  },
  {
   "cell_type": "code",
   "execution_count": 74,
   "metadata": {},
   "outputs": [
    {
     "data": {
      "text/html": [
       "<div>\n",
       "<style scoped>\n",
       "    .dataframe tbody tr th:only-of-type {\n",
       "        vertical-align: middle;\n",
       "    }\n",
       "\n",
       "    .dataframe tbody tr th {\n",
       "        vertical-align: top;\n",
       "    }\n",
       "\n",
       "    .dataframe thead th {\n",
       "        text-align: right;\n",
       "    }\n",
       "</style>\n",
       "<table border=\"1\" class=\"dataframe\">\n",
       "  <thead>\n",
       "    <tr style=\"text-align: right;\">\n",
       "      <th></th>\n",
       "      <th>State</th>\n",
       "      <th>Product name</th>\n",
       "      <th>Revenue</th>\n",
       "      <th>Profit</th>\n",
       "    </tr>\n",
       "  </thead>\n",
       "  <tbody>\n",
       "    <tr>\n",
       "      <th>54</th>\n",
       "      <td>Jharkhand</td>\n",
       "      <td>Television</td>\n",
       "      <td>680000</td>\n",
       "      <td>119000</td>\n",
       "    </tr>\n",
       "    <tr>\n",
       "      <th>62</th>\n",
       "      <td>Karnataka</td>\n",
       "      <td>Television</td>\n",
       "      <td>560000</td>\n",
       "      <td>98000</td>\n",
       "    </tr>\n",
       "    <tr>\n",
       "      <th>65</th>\n",
       "      <td>Kerala</td>\n",
       "      <td>Laptop</td>\n",
       "      <td>540000</td>\n",
       "      <td>90000</td>\n",
       "    </tr>\n",
       "    <tr>\n",
       "      <th>58</th>\n",
       "      <td>Karnataka</td>\n",
       "      <td>Dishwasher</td>\n",
       "      <td>500000</td>\n",
       "      <td>20000</td>\n",
       "    </tr>\n",
       "    <tr>\n",
       "      <th>68</th>\n",
       "      <td>Kerala</td>\n",
       "      <td>Television</td>\n",
       "      <td>480000</td>\n",
       "      <td>84000</td>\n",
       "    </tr>\n",
       "  </tbody>\n",
       "</table>\n",
       "</div>"
      ],
      "text/plain": [
       "        State Product name  Revenue  Profit\n",
       "54  Jharkhand   Television   680000  119000\n",
       "62  Karnataka   Television   560000   98000\n",
       "65     Kerala       Laptop   540000   90000\n",
       "58  Karnataka   Dishwasher   500000   20000\n",
       "68     Kerala   Television   480000   84000"
      ]
     },
     "execution_count": 74,
     "metadata": {},
     "output_type": "execute_result"
    }
   ],
   "source": [
    "# as_index is used to convert the group by columns from index to column names\n",
    "df1=data.groupby(['State','Product name'],as_index=False)[['Revenue','Profit']].sum().sort_values(by='Revenue',ascending=False)\n",
    "df1.head()"
   ]
  },
  {
   "cell_type": "code",
   "execution_count": 71,
   "metadata": {},
   "outputs": [
    {
     "data": {
      "text/plain": [
       "Index(['State', 'Product name', 'Revenue', 'Profit'], dtype='object')"
      ]
     },
     "execution_count": 71,
     "metadata": {},
     "output_type": "execute_result"
    }
   ],
   "source": [
    "df1.columns"
   ]
  },
  {
   "cell_type": "markdown",
   "metadata": {},
   "source": [
    "### 4 Query\n",
    "#### State,count of Payment Mode "
   ]
  },
  {
   "cell_type": "code",
   "execution_count": 83,
   "metadata": {},
   "outputs": [
    {
     "data": {
      "text/plain": [
       "State           Payment Mode \n",
       "Andhra Pradesh  Online           15\n",
       "Rajasthan       Online           14\n",
       "Kerala          Online           14\n",
       "Karnataka       Offline          13\n",
       "Kerala          Offline          12\n",
       "Name: Units, dtype: int64"
      ]
     },
     "execution_count": 83,
     "metadata": {},
     "output_type": "execute_result"
    }
   ],
   "source": [
    "df2=data.groupby(['State','Payment Mode '])['Units'].count().sort_values(ascending=False)\n",
    "df2.head()"
   ]
  },
  {
   "cell_type": "code",
   "execution_count": 86,
   "metadata": {},
   "outputs": [
    {
     "data": {
      "text/plain": [
       "<AxesSubplot:xlabel='State,Payment Mode '>"
      ]
     },
     "execution_count": 86,
     "metadata": {},
     "output_type": "execute_result"
    },
    {
     "data": {
      "image/png": "[encoded data removed]",
      "text/plain": [
       "<Figure size 720x720 with 1 Axes>"
      ]
     },
     "metadata": {
      "needs_background": "light"
     },
     "output_type": "display_data"
    }
   ],
   "source": [
    "df2.head(20).plot(kind='bar',figsize=(10,10))"
   ]
  },
  {
   "cell_type": "code",
   "execution_count": 90,
   "metadata": {},
   "outputs": [
    {
     "data": {
      "text/plain": [
       "Date\n",
       "1    4357000\n",
       "2    4193000\n",
       "3    4126000\n",
       "4    3994000\n",
       "Name: Revenue, dtype: int64"
      ]
     },
     "execution_count": 90,
     "metadata": {},
     "output_type": "execute_result"
    }
   ],
   "source": [
    "df3=data.groupby(data.Date.dt.quarter)['Revenue'].sum()\n",
    "df3"
   ]
  },
  {
   "cell_type": "code",
   "execution_count": 93,
   "metadata": {},
   "outputs": [
    {
     "data": {
      "text/plain": [
       "<AxesSubplot:xlabel='Date'>"
      ]
     },
     "execution_count": 93,
     "metadata": {},
     "output_type": "execute_result"
    },
    {
     "data": {
      "image/png": "[encoded data removed]",
      "text/plain": [
       "<Figure size 432x288 with 1 Axes>"
      ]
     },
     "metadata": {
      "needs_background": "light"
     },
     "output_type": "display_data"
    }
   ],
   "source": [
    "df3.plot(kind='bar')"
   ]
  },
  {
   "cell_type": "code",
   "execution_count": 94,
   "metadata": {},
   "outputs": [
    {
     "data": {
      "text/plain": [
       "<AxesSubplot:xlabel='Date'>"
      ]
     },
     "execution_count": 94,
     "metadata": {},
     "output_type": "execute_result"
    },
    {
     "data": {
      "image/png": "[encoded data removed]",
      "text/plain": [
       "<Figure size 432x288 with 1 Axes>"
      ]
     },
     "metadata": {
      "needs_background": "light"
     },
     "output_type": "display_data"
    }
   ],
   "source": [
    "df3.plot()"
   ]
  },
  {
   "cell_type": "markdown",
   "metadata": {},
   "source": [
    "### Model Building"
   ]
  },
  {
   "cell_type": "code",
   "execution_count": 116,
   "metadata": {},
   "outputs": [],
   "source": [
    "from sklearn.linear_model import LinearRegression\n",
    "from sklearn.model_selection import train_test_split\n",
    "from sklearn.metrics import r2_score"
   ]
  },
  {
   "cell_type": "code",
   "execution_count": 101,
   "metadata": {},
   "outputs": [],
   "source": [
    "# Introducing the month column to be used in Model Building\n",
    "data[\"Month\"]=data.Date.dt.month"
   ]
  },
  {
   "cell_type": "code",
   "execution_count": 104,
   "metadata": {},
   "outputs": [
    {
     "data": {
      "text/plain": [
       "1     37\n",
       "7     33\n",
       "12    31\n",
       "6     30\n",
       "8     29\n",
       "5     29\n",
       "4     26\n",
       "3     23\n",
       "2     23\n",
       "10    22\n",
       "9     22\n",
       "11    16\n",
       "Name: Month, dtype: int64"
      ]
     },
     "execution_count": 104,
     "metadata": {},
     "output_type": "execute_result"
    }
   ],
   "source": [
    "data.Month.value_counts()"
   ]
  },
  {
   "cell_type": "code",
   "execution_count": 102,
   "metadata": {},
   "outputs": [
    {
     "data": {
      "text/html": [
       "<div>\n",
       "<style scoped>\n",
       "    .dataframe tbody tr th:only-of-type {\n",
       "        vertical-align: middle;\n",
       "    }\n",
       "\n",
       "    .dataframe tbody tr th {\n",
       "        vertical-align: top;\n",
       "    }\n",
       "\n",
       "    .dataframe thead th {\n",
       "        text-align: right;\n",
       "    }\n",
       "</style>\n",
       "<table border=\"1\" class=\"dataframe\">\n",
       "  <thead>\n",
       "    <tr style=\"text-align: right;\">\n",
       "      <th></th>\n",
       "      <th>Cust_Id</th>\n",
       "      <th>Cust_Name</th>\n",
       "      <th>Gender_Category</th>\n",
       "      <th>Email_ID</th>\n",
       "      <th>Contact_No</th>\n",
       "      <th>State</th>\n",
       "      <th>Date</th>\n",
       "      <th>Order_id</th>\n",
       "      <th>Payment Mode</th>\n",
       "      <th>Product_Id</th>\n",
       "      <th>Price_Per_Unit</th>\n",
       "      <th>Units</th>\n",
       "      <th>Cost</th>\n",
       "      <th>Revenue</th>\n",
       "      <th>Profit</th>\n",
       "      <th>Product name</th>\n",
       "      <th>Month</th>\n",
       "    </tr>\n",
       "  </thead>\n",
       "  <tbody>\n",
       "    <tr>\n",
       "      <th>0</th>\n",
       "      <td>515A</td>\n",
       "      <td>Nilima Shekar</td>\n",
       "      <td>Female</td>\n",
       "      <td>NilimaShekar08gmail.com</td>\n",
       "      <td>9106640850</td>\n",
       "      <td>Tamil-Nadu</td>\n",
       "      <td>2020-04-01</td>\n",
       "      <td>OD152</td>\n",
       "      <td>Online</td>\n",
       "      <td>1000D</td>\n",
       "      <td>15000</td>\n",
       "      <td>1</td>\n",
       "      <td>13000</td>\n",
       "      <td>15000</td>\n",
       "      <td>2000</td>\n",
       "      <td>Mobile</td>\n",
       "      <td>4</td>\n",
       "    </tr>\n",
       "    <tr>\n",
       "      <th>1</th>\n",
       "      <td>534A</td>\n",
       "      <td>Gaurav  Gosain</td>\n",
       "      <td>Male</td>\n",
       "      <td>GauravGosaingmail.com</td>\n",
       "      <td>9267458497</td>\n",
       "      <td>Punjab</td>\n",
       "      <td>2020-03-02</td>\n",
       "      <td>OD247</td>\n",
       "      <td>Offline</td>\n",
       "      <td>1000D</td>\n",
       "      <td>15000</td>\n",
       "      <td>1</td>\n",
       "      <td>13000</td>\n",
       "      <td>15000</td>\n",
       "      <td>2000</td>\n",
       "      <td>Mobile</td>\n",
       "      <td>3</td>\n",
       "    </tr>\n",
       "    <tr>\n",
       "      <th>2</th>\n",
       "      <td>316A</td>\n",
       "      <td>Mahesh Kute</td>\n",
       "      <td></td>\n",
       "      <td>KuteMaheshgmail.com</td>\n",
       "      <td>9263285974</td>\n",
       "      <td>Orissa</td>\n",
       "      <td>2020-02-02</td>\n",
       "      <td>OD207</td>\n",
       "      <td>Offline</td>\n",
       "      <td>1000D</td>\n",
       "      <td>15000</td>\n",
       "      <td>1</td>\n",
       "      <td>13000</td>\n",
       "      <td>15000</td>\n",
       "      <td>2000</td>\n",
       "      <td>Mobile</td>\n",
       "      <td>2</td>\n",
       "    </tr>\n",
       "    <tr>\n",
       "      <th>3</th>\n",
       "      <td>452A</td>\n",
       "      <td>Nikhil Agarwal</td>\n",
       "      <td>Male</td>\n",
       "      <td>AgarwalNikhil008yahoo.com</td>\n",
       "      <td>9895301286</td>\n",
       "      <td>Himachal Pradesh</td>\n",
       "      <td>2020-05-16</td>\n",
       "      <td>OD169</td>\n",
       "      <td>Offline</td>\n",
       "      <td>1000D</td>\n",
       "      <td>15000</td>\n",
       "      <td>1</td>\n",
       "      <td>13000</td>\n",
       "      <td>15000</td>\n",
       "      <td>2000</td>\n",
       "      <td>Mobile</td>\n",
       "      <td>5</td>\n",
       "    </tr>\n",
       "    <tr>\n",
       "      <th>4</th>\n",
       "      <td>473A</td>\n",
       "      <td>Vivek Chadha</td>\n",
       "      <td>Male</td>\n",
       "      <td>ChadhaVivekbsgmail.com</td>\n",
       "      <td>9992847114</td>\n",
       "      <td>Kerala</td>\n",
       "      <td>2020-01-23</td>\n",
       "      <td>OD168</td>\n",
       "      <td>Online</td>\n",
       "      <td>1000D</td>\n",
       "      <td>15000</td>\n",
       "      <td>1</td>\n",
       "      <td>13000</td>\n",
       "      <td>15000</td>\n",
       "      <td>2000</td>\n",
       "      <td>Mobile</td>\n",
       "      <td>1</td>\n",
       "    </tr>\n",
       "  </tbody>\n",
       "</table>\n",
       "</div>"
      ],
      "text/plain": [
       "  Cust_Id       Cust_Name Gender_Category                   Email_ID  \\\n",
       "0    515A   Nilima Shekar          Female    NilimaShekar08gmail.com   \n",
       "1    534A  Gaurav  Gosain            Male      GauravGosaingmail.com   \n",
       "2    316A     Mahesh Kute                        KuteMaheshgmail.com   \n",
       "3    452A  Nikhil Agarwal            Male  AgarwalNikhil008yahoo.com   \n",
       "4    473A    Vivek Chadha            Male     ChadhaVivekbsgmail.com   \n",
       "\n",
       "  Contact_No               State       Date Order_id    Payment Mode   \\\n",
       "0   9106640850        Tamil-Nadu 2020-04-01       OD152        Online   \n",
       "1   9267458497            Punjab 2020-03-02       OD247       Offline   \n",
       "2   9263285974            Orissa 2020-02-02       OD207       Offline   \n",
       "3   9895301286  Himachal Pradesh 2020-05-16       OD169       Offline   \n",
       "4   9992847114            Kerala 2020-01-23       OD168        Online   \n",
       "\n",
       "  Product_Id  Price_Per_Unit  Units  Cost   Revenue  Profit Product name  \\\n",
       "0      1000D           15000      1  13000    15000    2000       Mobile   \n",
       "1      1000D           15000      1  13000    15000    2000       Mobile   \n",
       "2      1000D           15000      1  13000    15000    2000       Mobile   \n",
       "3      1000D           15000      1  13000    15000    2000       Mobile   \n",
       "4      1000D           15000      1  13000    15000    2000       Mobile   \n",
       "\n",
       "   Month  \n",
       "0      4  \n",
       "1      3  \n",
       "2      2  \n",
       "3      5  \n",
       "4      1  "
      ]
     },
     "execution_count": 102,
     "metadata": {},
     "output_type": "execute_result"
    }
   ],
   "source": [
    "data.head()"
   ]
  },
  {
   "cell_type": "code",
   "execution_count": 105,
   "metadata": {},
   "outputs": [],
   "source": [
    "X=data[['Units','Cost ','Profit','Month']]\n",
    "y=data[['Revenue']]"
   ]
  },
  {
   "cell_type": "code",
   "execution_count": 106,
   "metadata": {},
   "outputs": [
    {
     "data": {
      "text/plain": [
       "<AxesSubplot:>"
      ]
     },
     "execution_count": 106,
     "metadata": {},
     "output_type": "execute_result"
    },
    {
     "data": {
      "image/png": "[encoded data removed]",
      "text/plain": [
       "<Figure size 432x288 with 2 Axes>"
      ]
     },
     "metadata": {
      "needs_background": "light"
     },
     "output_type": "display_data"
    }
   ],
   "source": [
    "sns.heatmap(data.corr(),annot=True)"
   ]
  },
  {
   "cell_type": "markdown",
   "metadata": {},
   "source": [
    "#### Splitting the data into train and test "
   ]
  },
  {
   "cell_type": "code",
   "execution_count": 126,
   "metadata": {},
   "outputs": [],
   "source": [
    "X_train,X_test,y_train,y_test=train_test_split(X,y,test_size=0.25,random_state=10000)"
   ]
  },
  {
   "cell_type": "code",
   "execution_count": 127,
   "metadata": {},
   "outputs": [
    {
     "data": {
      "text/plain": [
       "LinearRegression()"
      ]
     },
     "execution_count": 127,
     "metadata": {},
     "output_type": "execute_result"
    }
   ],
   "source": [
    "# Instantiate the model.\n",
    "reg=LinearRegression()\n",
    "# Fit the model\n",
    "reg.fit(X_train,y_train)"
   ]
  },
  {
   "cell_type": "code",
   "execution_count": 128,
   "metadata": {},
   "outputs": [],
   "source": [
    "# Predict the values of y_test\n",
    "y_pred=reg.predict(X_test)\n"
   ]
  },
  {
   "cell_type": "code",
   "execution_count": 129,
   "metadata": {},
   "outputs": [
    {
     "data": {
      "text/plain": [
       "0.8217108459563373"
      ]
     },
     "execution_count": 129,
     "metadata": {},
     "output_type": "execute_result"
    }
   ],
   "source": [
    "# Obtain the r2_score to observe the model performance.\n",
    "rscore=r2_score(y_test,y_pred)\n",
    "rscore"
   ]
  },
  {
   "cell_type": "code",
   "execution_count": null,
   "metadata": {},
   "outputs": [],
   "source": []
  }
 ],
 "metadata": {
  "kernelspec": {
   "display_name": "Python 3",
   "language": "python",
   "name": "python3"
  },
  "language_info": {
   "codemirror_mode": {
    "name": "ipython",
    "version": 3
   },
   "file_extension": ".py",
   "mimetype": "text/x-python",
   "name": "python",
   "nbconvert_exporter": "python",
   "pygments_lexer": "ipython3",
   "version": "3.8.5"
  }
 },
 "nbformat": 4,
 "nbformat_minor": 4
}
